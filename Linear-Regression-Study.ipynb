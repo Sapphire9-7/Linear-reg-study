{
 "cells": [
  {
   "cell_type": "code",
   "execution_count": 29,
   "id": "2ae437fc",
   "metadata": {},
   "outputs": [],
   "source": [
    "import pandas as pd\n",
    "import numpy as np\n",
    "import matplotlib.pyplot as plt\n",
    "from sklearn import linear_model"
   ]
  },
  {
   "cell_type": "code",
   "execution_count": 30,
   "id": "b0bcd99c",
   "metadata": {},
   "outputs": [
    {
     "data": {
      "text/plain": [
       "brainw    0\n",
       "bodyw     0\n",
       "dtype: int64"
      ]
     },
     "execution_count": 30,
     "metadata": {},
     "output_type": "execute_result"
    }
   ],
   "source": [
    "df = pd.read_csv(\"weights.csv\")\n",
    "#checking for null inputs\n",
    "df.isnull().sum()"
   ]
  },
  {
   "cell_type": "code",
   "execution_count": 31,
   "id": "7f1e997d",
   "metadata": {},
   "outputs": [
    {
     "data": {
      "text/plain": [
       "<matplotlib.collections.PathCollection at 0x1b0434ad1c0>"
      ]
     },
     "execution_count": 31,
     "metadata": {},
     "output_type": "execute_result"
    },
    {
     "data": {
      "image/png": "[encoded data removed]",
      "text/plain": [
       "<Figure size 432x288 with 1 Axes>"
      ]
     },
     "metadata": {
      "needs_background": "light"
     },
     "output_type": "display_data"
    }
   ],
   "source": [
    "#looking at the correlation between the input and the output \n",
    "plt.xlabel('brain weights')\n",
    "plt.ylabel('body weights')\n",
    "plt.scatter(df.brainw,df.bodyw, color='green',marker='*')"
   ]
  },
  {
   "cell_type": "code",
   "execution_count": 37,
   "id": "5b015131",
   "metadata": {},
   "outputs": [],
   "source": [
    "#splitting the data into training and testing data\n",
    "features = df[['brainw']]\n",
    "target = df['bodyw']\n",
    "from sklearn.model_selection import train_test_split\n",
    "X_train, X_test, y_train, y_test = train_test_split(features, target, test_size=0.1, random_state=50)"
   ]
  },
  {
   "cell_type": "code",
   "execution_count": 38,
   "id": "71488a9e",
   "metadata": {},
   "outputs": [
    {
     "data": {
      "text/plain": [
       "LinearRegression()"
      ]
     },
     "execution_count": 38,
     "metadata": {},
     "output_type": "execute_result"
    }
   ],
   "source": [
    "#fit the linear regression model\n",
    "reg = linear_model.LinearRegression()\n",
    "reg.fit(X_train,y_train)"
   ]
  },
  {
   "cell_type": "code",
   "execution_count": 42,
   "id": "16a9bade",
   "metadata": {},
   "outputs": [
    {
     "name": "stdout",
     "output_type": "stream",
     "text": [
      "87.23339393988296 %\n"
     ]
    }
   ],
   "source": [
    "#training accuracy\n",
    "r2_score = reg.score(X_train,y_train)\n",
    "print(r2_score*100,'%')"
   ]
  },
  {
   "cell_type": "code",
   "execution_count": 44,
   "id": "d23e9ab3",
   "metadata": {},
   "outputs": [
    {
     "name": "stdout",
     "output_type": "stream",
     "text": [
      "   Predicted Values\n",
      "0         99.888965\n",
      "1         99.543578\n",
      "2        109.073551\n",
      "3        101.065981\n",
      "4        103.562799\n",
      "5        102.899039\n",
      "6        253.788664\n",
      "6213.859148292312\n"
     ]
    }
   ],
   "source": [
    "y_predicted = reg.predict(X_test)\n",
    "y_dataframe = pd.DataFrame(y_predicted, columns=['Predicted Values'])\n",
    "print (y_dataframe)\n"
   ]
  },
  {
   "cell_type": "code",
   "execution_count": 45,
   "id": "6c8b063d",
   "metadata": {},
   "outputs": [
    {
     "name": "stdout",
     "output_type": "stream",
     "text": [
      "6213.859148292312\n",
      "-76.80988123618353 %\n"
     ]
    }
   ],
   "source": [
    "# Model testing MSE\n",
    "from sklearn.metrics import mean_squared_error\n",
    "print(mean_squared_error(y_test, y_predicted))\n",
    "# Model testing R^2\n",
    "from sklearn.metrics import r2_score\n",
    "r2_score = reg.score(X_test,y_test)\n",
    "print(r2_score*100,'%')\n",
    "#this R2 score is super low, so the model is not a good fit\n",
    "#since the data isn't that complex, it can be seen that the testing R2 score is negative due to the \n",
    "#lack of features or not enough linear correlation between the features and the target\n"
   ]
  },
  {
   "cell_type": "code",
   "execution_count": 46,
   "id": "28923c63",
   "metadata": {},
   "outputs": [
    {
     "data": {
      "text/plain": [
       "[<matplotlib.lines.Line2D at 0x1b043720b20>]"
      ]
     },
     "execution_count": 46,
     "metadata": {},
     "output_type": "execute_result"
    },
    {
     "data": {
      "image/png": "[encoded data removed]",
      "text/plain": [
       "<Figure size 432x288 with 1 Axes>"
      ]
     },
     "metadata": {
      "needs_background": "light"
     },
     "output_type": "display_data"
    }
   ],
   "source": [
    "#to view your linear regrassion line after prediction\n",
    "plt.xlabel('brain w',fontsize = 10)\n",
    "plt.ylabel('body w',fontsize =10)\n",
    "plt.scatter(df.brainw,df.bodyw,color='red',marker='+')\n",
    "#the following line of code is to view the linear line after prediction\n",
    "plt.plot(df.brainw,reg.predict(df[['brainw']]),color='blue')\n"
   ]
  }
 ],
 "metadata": {
  "kernelspec": {
   "display_name": "Python 3 (ipykernel)",
   "language": "python",
   "name": "python3"
  },
  "language_info": {
   "codemirror_mode": {
    "name": "ipython",
    "version": 3
   },
   "file_extension": ".py",
   "mimetype": "text/x-python",
   "name": "python",
   "nbconvert_exporter": "python",
   "pygments_lexer": "ipython3",
   "version": "3.9.8"
  }
 },
 "nbformat": 4,
 "nbformat_minor": 5
}
